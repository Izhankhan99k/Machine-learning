{
 "cells": [
  {
   "cell_type": "code",
   "execution_count": null,
   "id": "661d508b-94fc-49b4-8bac-66ddf64ff091",
   "metadata": {},
   "outputs": [],
   "source": []
  }
 ],
 "metadata": {
  "kernelspec": {
   "display_name": "",
   "name": ""
  },
  "language_info": {
   "name": ""
  }
 },
 "nbformat": 4,
 "nbformat_minor": 5
}
